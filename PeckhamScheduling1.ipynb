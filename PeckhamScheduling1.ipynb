{
 "cells": [
  {
   "cell_type": "markdown",
   "metadata": {},
   "source": [
    "# Peckham's Scheduling Notebook\n",
    "\n",
    "This Python-based Jupyter notebook implements our developing solution to Peckham's scheduling problem. You can read about jupyter notbooks [here](http://jupyter.org/). This cell of the notebook uses Markdown language to look pretty and include images and links. You can [read about markdown language](https://github.com/adam-p/markdown-here/wiki/Markdown-Cheatsheet)."
   ]
  },
  {
   "cell_type": "markdown",
   "metadata": {},
   "source": [
    "## Getting started\n",
    "\n",
    "With some exceptions we'll talk about later, the code cells in this notebook use Python language. Let's use Python to explore Lionel's spreadsheet. The code we use here will use a Python package called [Pandas](http://pandas.pydata.org/pandas-docs/stable/). What we do in the next few cells will probably be among the most programmer-oriented thing will have to do. It's okay if it doesn't make much sense yet.\n",
    "\n",
    "## Import Pandas\n",
    "\n",
    "We'll start by making Pandas available for use."
   ]
  },
  {
   "cell_type": "code",
   "execution_count": 5,
   "metadata": {},
   "outputs": [],
   "source": [
    "import pandas as pd # This line reads in pandas; the \"as pd\" part gives it a name we can use.\n",
    "from IPython.display import display # This line imports some stuff to make tables look better."
   ]
  },
  {
   "cell_type": "markdown",
   "metadata": {},
   "source": [
    "Here is page on [using Excel with pandas](https://www.dataquest.io/blog/excel-and-pandas/). We are just going to read Lionel's file, so I wouldn't bother studying it yet. I put Lionel's notebook in the same directory where I started jupyter; it is also the directory where this notebook is being saved.\n",
    "\n",
    "In the following cell, I am going to read the GOALS sheet from the spreadsheet into a Python dictionary. It probably doesn't contain the stuff we need, but it is a start. Typically there would be some work to do after reading a sheet clean up the data, removing rows and columns that aren't relevant, creating indexed data etc.. We'll do that later if we actually use this sheet. The question for right now however is __How are you getting this data?__ It might be simpler for us to get it directly, calling a service on your MRP system. We should talk about this soon. But maybe get a prototype working with this stuff in the mean time."
   ]
  },
  {
   "cell_type": "code",
   "execution_count": 6,
   "metadata": {},
   "outputs": [],
   "source": [
    "goals_dictionary = pd.read_excel(\"Final Production Goals for 11.05.18.xlsx\", sheet_name=\"GOALS\")"
   ]
  },
  {
   "cell_type": "markdown",
   "metadata": {},
   "source": [
    "## Load Balancing\n",
    "\n",
    "The way I see it currently (note that I hardly know what I'm doing!), we'll use information about the process steps, skills, and SAMs to assign workers (or \"worker types\") to each task in a balanced line -- we balance the line in the process. This gives us values for the capacity of the production system which we'd then use in resource-constrained scheduling. It may be the case that somewhere (in the spreadsheet etc.) we already have this. \n",
    "\n",
    "For the time being, this is \"stubbed in\" -- that is, I'm not writing it because we need to talk about it."
   ]
  },
  {
   "cell_type": "markdown",
   "metadata": {},
   "source": [
    "### Stub, Stub Stub"
   ]
  },
  {
   "cell_type": "markdown",
   "metadata": {},
   "source": [
    "## Scheduling\n",
    "\n",
    "In the meeting, I was thinking that we could do the scheduling by solving a Resource Constrained Project Scheduling Problem (RCPSP). But those problems are for production with multiple steps. Our scheduling problem might actually be easier than that; we might just have a sewing step, with all the separate operations summarized through the load balancing problem we solved above. But for the time being, we'll use RCPSP. You can [read about various problem types](https://glossary.informs.org/ver2/mpgwiki/index.php?title=Category:Common_Problems).\n",
    "\n",
    "We are going to solve the problem with a popular open source tool for this sort of problem called [MiniZinc](https://www.minizinc.org/). First we have to load some \"minizinc ipython magic\" which allows us to use minizinc inside a Jupyter notebook. "
   ]
  },
  {
   "cell_type": "code",
   "execution_count": 11,
   "metadata": {},
   "outputs": [
    {
     "name": "stdout",
     "output_type": "stream",
     "text": [
      "The iminizinc extension is already loaded. To reload it, use:\n",
      "  %reload_ext iminizinc\n"
     ]
    }
   ],
   "source": [
    " %load_ext iminizinc"
   ]
  },
  {
   "cell_type": "markdown",
   "metadata": {},
   "source": [
    "### What is going on in the above?\n",
    "\n"
   ]
  },
  {
   "cell_type": "code",
   "execution_count": null,
   "metadata": {},
   "outputs": [],
   "source": []
  }
 ],
 "metadata": {
  "kernelspec": {
   "display_name": "Python 3",
   "language": "python",
   "name": "python3"
  },
  "language_info": {
   "codemirror_mode": {
    "name": "ipython",
    "version": 3
   },
   "file_extension": ".py",
   "mimetype": "text/x-python",
   "name": "python",
   "nbconvert_exporter": "python",
   "pygments_lexer": "ipython3",
   "version": "3.7.0"
  }
 },
 "nbformat": 4,
 "nbformat_minor": 2
}
