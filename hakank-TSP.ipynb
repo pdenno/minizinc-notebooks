{
 "cells": [
  {
   "cell_type": "markdown",
   "metadata": {},
   "source": [
    "# hakank-TSP "
   ]
  },
  {
   "cell_type": "markdown",
   "metadata": {},
   "source": [
    "This uses [hakank's code on GitHub](https://github.com/hakank/hakank/blob/master/minizinc/tsp.mzn). That example uses 16 nodes in a 0-1 variable integer programming model. \n",
    "\n",
    "I am solving for a more reasonable 48. So I am not optimistic about this being an improvement over Bologna."
   ]
  },
  {
   "cell_type": "code",
   "execution_count": 2,
   "metadata": {},
   "outputs": [
    {
     "name": "stdout",
     "output_type": "stream",
     "text": [
      "The iminizinc extension is already loaded. To reload it, use:\n",
      "  %reload_ext iminizinc\n"
     ]
    }
   ],
   "source": [
    " %load_ext iminizinc"
   ]
  },
  {
   "cell_type": "code",
   "execution_count": 54,
   "metadata": {},
   "outputs": [],
   "source": [
    "import pandas as pd\n",
    "from geopy.distance import great_circle"
   ]
  },
  {
   "cell_type": "code",
   "execution_count": 55,
   "metadata": {},
   "outputs": [],
   "source": [
    "cities = pd.read_csv(\"data/city.csv\")"
   ]
  },
  {
   "cell_type": "code",
   "execution_count": 56,
   "metadata": {},
   "outputs": [],
   "source": [
    "cdict = cities.set_index('City').T.to_dict('list')"
   ]
  },
  {
   "cell_type": "code",
   "execution_count": 89,
   "metadata": {},
   "outputs": [
    {
     "name": "stdout",
     "output_type": "stream",
     "text": [
      "[1494, 385, 2013, 1159, 990, 763, 177, 145, 1793, 1494, 1131, 632, 585, 2210, 2058, 1638, 1588, 737, 385, 1131, 1629, 776, 1168, 975, 554, 458, 1412, 2013, 632, 1629, 885, 2551, 2445, 2174, 2080, 442, 1159, 585, 776, 885, 1686, 1565, 1330, 1209, 638, 990, 2210, 1168, 2551, 1686, 234, 1012, 844, 2190, 763, 2058, 975, 2445, 1565, 234, 779, 617, 2111, 177, 1638, 554, 2174, 1330, 1012, 779, 228, 1966, 145, 1588, 458, 2080, 1209, 844, 617, 228, 1833, 1793, 737, 1412, 442, 638, 2190, 2111, 1966, 1833]\n",
      "[[1, 2], [1, 3], [1, 4], [1, 5], [1, 6], [1, 7], [1, 8], [1, 9], [1, 10], [2, 1], [2, 3], [2, 4], [2, 5], [2, 6], [2, 7], [2, 8], [2, 9], [2, 10], [3, 1], [3, 2], [3, 4], [3, 5], [3, 6], [3, 7], [3, 8], [3, 9], [3, 10], [4, 1], [4, 2], [4, 3], [4, 5], [4, 6], [4, 7], [4, 8], [4, 9], [4, 10], [5, 1], [5, 2], [5, 3], [5, 4], [5, 6], [5, 7], [5, 8], [5, 9], [5, 10], [6, 1], [6, 2], [6, 3], [6, 4], [6, 5], [6, 7], [6, 8], [6, 9], [6, 10], [7, 1], [7, 2], [7, 3], [7, 4], [7, 5], [7, 6], [7, 8], [7, 9], [7, 10], [8, 1], [8, 2], [8, 3], [8, 4], [8, 5], [8, 6], [8, 7], [8, 9], [8, 10], [9, 1], [9, 2], [9, 3], [9, 4], [9, 5], [9, 6], [9, 7], [9, 8], [9, 10], [10, 1], [10, 2], [10, 3], [10, 4], [10, 5], [10, 6], [10, 7], [10, 8], [10, 9]]\n"
     ]
    }
   ],
   "source": [
    "psize = 10 # size of problem (number of cities used)\n",
    "keys = list(cdict.keys())\n",
    "keys = keys[:psize]\n",
    "\n",
    "# Here are values for the variables/parameters shared with MiniZinc:\n",
    "n = len(keys)\n",
    "num_edges = n*(n-1)\n",
    "targets = list(range(n))        \n",
    "E = []\n",
    "for i in range(n):\n",
    "    tar = targets.copy()\n",
    "    del tar[tar.index(i)]\n",
    "    for j in range(len(tar)):\n",
    "        E.append([i+1,tar[j]+1])       \n",
    "c = []\n",
    "for i in range(num_edges):\n",
    "    c.append(int(great_circle(tuple(cdict[keys[E[i][0]-1]]), \n",
    "                              tuple(cdict[keys[E[i][1]-1]])).miles))\n",
    "\n",
    "city_name = keys\n",
    "print(c)\n",
    "print(E)"
   ]
  },
  {
   "cell_type": "code",
   "execution_count": 64,
   "metadata": {},
   "outputs": [],
   "source": [
    "%%minizinc -m bind\n",
    "\n",
    "% number of nodes \n",
    "int: n;\n",
    "\n",
    "% set of arcs \n",
    "int: num_edges;\n",
    "array[1..num_edges, 1..2] of 1..n: E;\n",
    "\n",
    "% distance from node i to node j \n",
    "array[1..num_edges] of int: c;\n",
    "\n",
    "% x[i,j] = 1 means that the salesman goes from node i to node j \n",
    "array[1..num_edges] of var 0..1: x;\n",
    "\n",
    "% y[i,j] is the number of cars, which the salesman has after leaving\n",
    "% node i and before entering node j; in terms of the network analysis,\n",
    "% y[i,j] is a flow through arc (i,j) \n",
    "array[1..num_edges] of var int: y;\n",
    "\n",
    "% the objective is to make the path length as small as possible \n",
    "var int: total = sum(i in 1..num_edges) (c[i] * x[i]);\n",
    "solve :: int_search(\n",
    "    [x[i] | i in 1..num_edges] ++\n",
    "    [y[i] | i in 1..num_edges] ++\n",
    "    [total],\n",
    "   first_fail, % \"occurrence\",\n",
    "   indomain_max,\n",
    "   complete\n",
    "   )\n",
    "   minimize total;\n",
    "\n",
    "constraint\n",
    "\n",
    "   % the salesman leaves each node i exactly once \n",
    "   forall(i in 1..n) (\n",
    "        sum(k in 1..num_edges where E[k,1] = i) (x[k]) = 1\n",
    "   )\n",
    "\n",
    "   /\\\n",
    "\n",
    "   % the salesman enters each node j exactly once \n",
    "   forall(j in 1..n) (\n",
    "        sum(k in 1..num_edges where E[k,2] = j) (x[k]) = 1\n",
    "   )\n",
    "\n",
    "   /\\\n",
    "\n",
    "   % \"\"\"\n",
    "   % Constraints above are not sufficient to describe valid tours, so we\n",
    "   % need to add constraints to eliminate subtours, i.e. tours which have\n",
    "   % disconnected components. Although there are many known ways to do\n",
    "   % that, I invented yet another way. The general idea is the following.\n",
    "   % Let the salesman sells, say, cars, starting the travel from node 1,\n",
    "   % where he has n cars. If we require the salesman to sell exactly one\n",
    "   % car in each node, he will need to go through all nodes to satisfy\n",
    "   % this requirement, thus, all subtours will be eliminated. \n",
    "   % \n",
    "\n",
    "   % if arc (i,j) does not belong to the salesman's tour, its capacity\n",
    "   % must be zero; it is obvious that on leaving a node, it is sufficient\n",
    "   % to have not more than n-1 cars \n",
    "   % \"\"\"\n",
    "   forall(k in 1..num_edges) (\n",
    "      y[k] >= 0\n",
    "      /\\\n",
    "      y[k] <= (n-1) * x[k]\n",
    "   )\n",
    "\n",
    "   /\\\n",
    "   % node[i] is a conservation constraint for node i \n",
    "   forall(i in 1..n) (\n",
    "      % summary flow into node i through all ingoing arcs \n",
    "      (\n",
    "      sum(k in 1..num_edges where E[k,2] = i) (y[k])\n",
    "      % plus n cars which the salesman has at starting node \n",
    "      + (if i = 1 then n else 0 endif)\n",
    "      )\n",
    "      = % must be equal to \n",
    "      % summary flow from node i through all outgoing arcs \n",
    "      (\n",
    "      sum(k in 1..num_edges where E[k,1] = i) (y[k])\n",
    "      % plus one car which the salesman sells at node i \n",
    "      + 1\n",
    "      )\n",
    "   )\n",
    ";"
   ]
  },
  {
   "cell_type": "code",
   "execution_count": 65,
   "metadata": {},
   "outputs": [
    {
     "name": "stdout",
     "output_type": "stream",
     "text": [
      "x =  [0, 1, 0, 0, 0, 0, 0, 0, 0, 0, 0, 1, 0, 0, 0, 0, 0, 0, 0, 1, 0, 0, 0, 0, 0, 0, 0, 0, 0, 0, 0, 0, 0, 0, 0, 1, 0, 0, 0, 0, 1, 0, 0, 0, 0, 0, 0, 0, 0, 0, 1, 0, 0, 0, 0, 0, 0, 0, 0, 0, 0, 1, 0, 1, 0, 0, 0, 0, 0, 0, 0, 0, 0, 0, 0, 0, 0, 0, 0, 1, 0, 0, 0, 0, 0, 1, 0, 0, 0, 0] \n",
      "y =  [0, 9, 0, 0, 0, 0, 0, 0, 0, 0, 0, 7, 0, 0, 0, 0, 0, 0, 0, 8, 0, 0, 0, 0, 0, 0, 0, 0, 0, 0, 0, 0, 0, 0, 0, 6, 0, 0, 0, 0, 4, 0, 0, 0, 0, 0, 0, 0, 0, 0, 3, 0, 0, 0, 0, 0, 0, 0, 0, 0, 0, 2, 0, 0, 0, 0, 0, 0, 0, 0, 0, 0, 0, 0, 0, 0, 0, 0, 0, 1, 0, 0, 0, 0, 0, 5, 0, 0, 0, 0]\n"
     ]
    }
   ],
   "source": [
    "print('x = ',x,'\\ny = ',y)"
   ]
  },
  {
   "cell_type": "code",
   "execution_count": 97,
   "metadata": {},
   "outputs": [],
   "source": [
    "trav = []\n",
    "for i in range(num_edges):\n",
    "    if x[i] == 1: \n",
    "        trav.append(E[i])"
   ]
  },
  {
   "cell_type": "code",
   "execution_count": 98,
   "metadata": {},
   "outputs": [
    {
     "data": {
      "text/plain": [
       "[[[1, 3],\n",
       "  [2, 4],\n",
       "  [3, 2],\n",
       "  [4, 10],\n",
       "  [5, 6],\n",
       "  [6, 7],\n",
       "  [7, 9],\n",
       "  [8, 1],\n",
       "  [9, 8],\n",
       "  [10, 5]],\n",
       " ['Montgomery',\n",
       "  'Phoenix',\n",
       "  'Little Rock',\n",
       "  'Sacramento',\n",
       "  'Denver',\n",
       "  'Hartford',\n",
       "  'Dover',\n",
       "  'Tallahassee',\n",
       "  'Atlanta',\n",
       "  'Boise']]"
      ]
     },
     "execution_count": 98,
     "metadata": {},
     "output_type": "execute_result"
    }
   ],
   "source": [
    "[trav, keys]"
   ]
  },
  {
   "cell_type": "code",
   "execution_count": 121,
   "metadata": {},
   "outputs": [],
   "source": [
    "tour = [keys[edge[0][0]-1]]"
   ]
  },
  {
   "cell_type": "code",
   "execution_count": 122,
   "metadata": {},
   "outputs": [
    {
     "name": "stdout",
     "output_type": "stream",
     "text": [
      "['Montgomery', 'Little Rock', 'Phoenix', 'Sacramento', 'Boise', 'Denver', 'Hartford', 'Dover', 'Atlanta', 'Tallahassee', 'Montgomery', 'Little Rock', 'Phoenix', 'Sacramento', 'Boise', 'Denver', 'Hartford', 'Dover', 'Atlanta', 'Tallahassee']\n"
     ]
    }
   ],
   "source": [
    "next = trav[0][1]\n",
    "for i in range(1,psize-1):\n",
    "    for j in range(psize):\n",
    "        if trav[j][0] == next:\n",
    "            tour.append(keys[trav[j][0]-1])\n",
    "            next = trav[j][1] \n",
    "print(tour)"
   ]
  },
  {
   "cell_type": "markdown",
   "metadata": {},
   "source": [
    "## Bibliography"
   ]
  },
  {
   "cell_type": "markdown",
   "metadata": {},
   "source": [
    "* [GitHub site for TSP solved for 48 US States.](https://github.com/toddwschneider/shiny-salesman) But the data is in binary. \n",
    "* [Here is longitudes and latitudes](http://www.xfront.com/us_states/), then use [this](https://pypi.org/project/geopy/) to calculate the distances. "
   ]
  }
 ],
 "metadata": {
  "kernelspec": {
   "display_name": "Python 3",
   "language": "python",
   "name": "python3"
  },
  "language_info": {
   "codemirror_mode": {
    "name": "ipython",
    "version": 3
   },
   "file_extension": ".py",
   "mimetype": "text/x-python",
   "name": "python",
   "nbconvert_exporter": "python",
   "pygments_lexer": "ipython3",
   "version": "3.7.0"
  }
 },
 "nbformat": 4,
 "nbformat_minor": 2
}
