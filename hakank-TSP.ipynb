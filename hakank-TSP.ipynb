{
 "cells": [
  {
   "cell_type": "markdown",
   "metadata": {},
   "source": [
    "# hakank-TSP "
   ]
  },
  {
   "cell_type": "markdown",
   "metadata": {},
   "source": [
    "This uses [hakank's code on GitHub](https://github.com/hakank/hakank/blob/master/minizinc/tsp.mzn). That example uses 16 nodes in a 0-1 variable integer programming model. \n",
    "\n",
    "I am solving for a more reasonable 48. So I am not optimistic about this being an improvement over Bologna."
   ]
  },
  {
   "cell_type": "code",
   "execution_count": 130,
   "metadata": {},
   "outputs": [
    {
     "name": "stdout",
     "output_type": "stream",
     "text": [
      "The iminizinc extension is already loaded. To reload it, use:\n",
      "  %reload_ext iminizinc\n"
     ]
    }
   ],
   "source": [
    " %load_ext iminizinc"
   ]
  },
  {
   "cell_type": "code",
   "execution_count": 131,
   "metadata": {},
   "outputs": [],
   "source": [
    "import pandas as pd\n",
    "from geopy.distance import great_circle"
   ]
  },
  {
   "cell_type": "code",
   "execution_count": 132,
   "metadata": {},
   "outputs": [],
   "source": [
    "cities = pd.read_csv(\"data/city.csv\")"
   ]
  },
  {
   "cell_type": "code",
   "execution_count": 133,
   "metadata": {},
   "outputs": [],
   "source": [
    "cdict = cities.set_index('City').T.to_dict('list')"
   ]
  },
  {
   "cell_type": "code",
   "execution_count": 134,
   "metadata": {},
   "outputs": [
    {
     "data": {
      "text/plain": [
       "177"
      ]
     },
     "execution_count": 134,
     "metadata": {},
     "output_type": "execute_result"
    }
   ],
   "source": [
    "# Test: distance from Montgomery, AL to Tallahassee, FL\n",
    "int(great_circle(tuple(cdict['Montgomery']), tuple(cdict['Tallahassee'])).miles)"
   ]
  },
  {
   "cell_type": "code",
   "execution_count": 144,
   "metadata": {},
   "outputs": [
    {
     "name": "stdout",
     "output_type": "stream",
     "text": [
      "Montgomery  to  Phoenix  =  1494\n",
      "Montgomery  to  Little Rock  =  385\n",
      "Montgomery  to  Sacramento  =  2013\n",
      "Montgomery  to  Denver  =  1159\n",
      "Montgomery  to  Hartford  =  990\n",
      "Montgomery  to  Dover  =  763\n",
      "Montgomery  to  Tallahassee  =  177\n",
      "Montgomery  to  Atlanta  =  145\n",
      "Montgomery  to  Boise  =  1793\n",
      "Phoenix  to  Montgomery  =  1494\n",
      "Phoenix  to  Little Rock  =  1131\n",
      "Phoenix  to  Sacramento  =  632\n",
      "Phoenix  to  Denver  =  585\n",
      "Phoenix  to  Hartford  =  2210\n",
      "Phoenix  to  Dover  =  2058\n",
      "Phoenix  to  Tallahassee  =  1638\n",
      "Phoenix  to  Atlanta  =  1588\n",
      "Phoenix  to  Boise  =  737\n",
      "Little Rock  to  Montgomery  =  385\n",
      "Little Rock  to  Phoenix  =  1131\n",
      "Little Rock  to  Sacramento  =  1629\n",
      "Little Rock  to  Denver  =  776\n",
      "Little Rock  to  Hartford  =  1168\n",
      "Little Rock  to  Dover  =  975\n",
      "Little Rock  to  Tallahassee  =  554\n",
      "Little Rock  to  Atlanta  =  458\n",
      "Little Rock  to  Boise  =  1412\n",
      "Sacramento  to  Montgomery  =  2013\n",
      "Sacramento  to  Phoenix  =  632\n",
      "Sacramento  to  Little Rock  =  1629\n",
      "Sacramento  to  Denver  =  885\n",
      "Sacramento  to  Hartford  =  2551\n",
      "Sacramento  to  Dover  =  2445\n",
      "Sacramento  to  Tallahassee  =  2174\n",
      "Sacramento  to  Atlanta  =  2080\n",
      "Sacramento  to  Boise  =  442\n",
      "Denver  to  Montgomery  =  1159\n",
      "Denver  to  Phoenix  =  585\n",
      "Denver  to  Little Rock  =  776\n",
      "Denver  to  Sacramento  =  885\n",
      "Denver  to  Hartford  =  1686\n",
      "Denver  to  Dover  =  1565\n",
      "Denver  to  Tallahassee  =  1330\n",
      "Denver  to  Atlanta  =  1209\n",
      "Denver  to  Boise  =  638\n",
      "Hartford  to  Montgomery  =  990\n",
      "Hartford  to  Phoenix  =  2210\n",
      "Hartford  to  Little Rock  =  1168\n",
      "Hartford  to  Sacramento  =  2551\n",
      "Hartford  to  Denver  =  1686\n",
      "Hartford  to  Dover  =  234\n",
      "Hartford  to  Tallahassee  =  1012\n",
      "Hartford  to  Atlanta  =  844\n",
      "Hartford  to  Boise  =  2190\n",
      "Dover  to  Montgomery  =  763\n",
      "Dover  to  Phoenix  =  2058\n",
      "Dover  to  Little Rock  =  975\n",
      "Dover  to  Sacramento  =  2445\n",
      "Dover  to  Denver  =  1565\n",
      "Dover  to  Hartford  =  234\n",
      "Dover  to  Tallahassee  =  779\n",
      "Dover  to  Atlanta  =  617\n",
      "Dover  to  Boise  =  2111\n",
      "Tallahassee  to  Montgomery  =  177\n",
      "Tallahassee  to  Phoenix  =  1638\n",
      "Tallahassee  to  Little Rock  =  554\n",
      "Tallahassee  to  Sacramento  =  2174\n",
      "Tallahassee  to  Denver  =  1330\n",
      "Tallahassee  to  Hartford  =  1012\n",
      "Tallahassee  to  Dover  =  779\n",
      "Tallahassee  to  Atlanta  =  228\n",
      "Tallahassee  to  Boise  =  1966\n",
      "Atlanta  to  Montgomery  =  145\n",
      "Atlanta  to  Phoenix  =  1588\n",
      "Atlanta  to  Little Rock  =  458\n",
      "Atlanta  to  Sacramento  =  2080\n",
      "Atlanta  to  Denver  =  1209\n",
      "Atlanta  to  Hartford  =  844\n",
      "Atlanta  to  Dover  =  617\n",
      "Atlanta  to  Tallahassee  =  228\n",
      "Atlanta  to  Boise  =  1833\n",
      "Boise  to  Montgomery  =  1793\n",
      "Boise  to  Phoenix  =  737\n",
      "Boise  to  Little Rock  =  1412\n",
      "Boise  to  Sacramento  =  442\n",
      "Boise  to  Denver  =  638\n",
      "Boise  to  Hartford  =  2190\n",
      "Boise  to  Dover  =  2111\n",
      "Boise  to  Tallahassee  =  1966\n",
      "Boise  to  Atlanta  =  1833\n"
     ]
    }
   ],
   "source": [
    "psize = 10 # size of problem (number of cities used)\n",
    "keys = list(cdict.keys())\n",
    "keys = keys[:psize]\n",
    "\n",
    "# Here are values for the variables/parameters shared with MiniZinc:\n",
    "n = len(keys)\n",
    "num_edges = n*(n-1)\n",
    "targets = list(range(n))        \n",
    "E = []\n",
    "for i in range(n):\n",
    "    tar = targets.copy()\n",
    "    del tar[tar.index(i)]\n",
    "    for j in range(len(tar)):\n",
    "        E.append([i+1,tar[j]+1])       \n",
    "c = []\n",
    "for i in range(num_edges):\n",
    "    c.append(int(great_circle(tuple(cdict[keys[E[i][0]-1]]), \n",
    "                              tuple(cdict[keys[E[i][1]-1]])).miles))\n",
    "\n",
    "for i in range(num_edges):\n",
    "    print(keys[E[i][0]-1], ' to ', keys[E[i][1]-1], ' = ', c[i])"
   ]
  },
  {
   "cell_type": "code",
   "execution_count": 145,
   "metadata": {},
   "outputs": [],
   "source": [
    "%%minizinc -m bind\n",
    "\n",
    "% number of nodes \n",
    "int: n;\n",
    "\n",
    "% set of arcs \n",
    "int: num_edges;\n",
    "array[1..num_edges, 1..2] of 1..n: E;\n",
    "\n",
    "% distance from node i to node j \n",
    "array[1..num_edges] of int: c;\n",
    "\n",
    "% x[i,j] = 1 means that the salesman goes from node i to node j \n",
    "array[1..num_edges] of var 0..1: x;\n",
    "\n",
    "% y[i,j] is the number of cars, which the salesman has after leaving\n",
    "% node i and before entering node j; in terms of the network analysis,\n",
    "% y[i,j] is a flow through arc (i,j) \n",
    "array[1..num_edges] of var int: y;\n",
    "\n",
    "% the objective is to make the path length as small as possible \n",
    "var int: total = sum(i in 1..num_edges) (c[i] * x[i]);\n",
    "solve :: int_search(\n",
    "    [x[i] | i in 1..num_edges] ++\n",
    "    [y[i] | i in 1..num_edges] ++\n",
    "    [total],\n",
    "   first_fail, % \"occurrence\",\n",
    "   indomain_max,\n",
    "   complete\n",
    "   )\n",
    "   minimize total;\n",
    "\n",
    "constraint\n",
    "   % the salesman leaves each node i exactly once \n",
    "   forall(i in 1..n) (\n",
    "        sum(k in 1..num_edges where E[k,1] = i) (x[k]) = 1)\n",
    "   /\\\n",
    "   % the salesman enters each node j exactly once \n",
    "   forall(j in 1..n) (\n",
    "        sum(k in 1..num_edges where E[k,2] = j) (x[k]) = 1)\n",
    "   /\\\n",
    "   % Constraints above are not sufficient to describe valid tours, so we\n",
    "   % need to add constraints to eliminate subtours, i.e. tours which have\n",
    "   % disconnected components. Although there are many known ways to do\n",
    "   % that, I invented yet another way. The general idea is the following.\n",
    "   % Let the salesman sells, say, cars, starting the travel from node 1,\n",
    "   % where he has n cars. If we require the salesman to sell exactly one\n",
    "   % car in each node, he will need to go through all nodes to satisfy\n",
    "   % this requirement, thus, all subtours will be eliminated. \n",
    "   % \n",
    "\n",
    "   % if arc (i,j) does not belong to the salesman's tour, its capacity\n",
    "   % must be zero; it is obvious that on leaving a node, it is sufficient\n",
    "   % to have not more than n-1 cars \n",
    "    forall(k in 1..num_edges) (\n",
    "      y[k] >= 0\n",
    "      /\\\n",
    "      y[k] <= (n-1) * x[k])\n",
    "   /\\\n",
    "   % node[i] is a conservation constraint for node i \n",
    "   forall(i in 1..n) (\n",
    "      % summary flow into node i through all ingoing arcs \n",
    "      (\n",
    "      sum(k in 1..num_edges where E[k,2] = i) (y[k])\n",
    "      % plus n cars which the salesman has at starting node \n",
    "      + (if i = 1 then n else 0 endif)\n",
    "      )\n",
    "      = % must be equal to \n",
    "      % summary flow from node i through all outgoing arcs \n",
    "      (\n",
    "      sum(k in 1..num_edges where E[k,1] = i) (y[k])\n",
    "      % plus one car which the salesman sells at node i \n",
    "      + 1));"
   ]
  },
  {
   "cell_type": "code",
   "execution_count": 146,
   "metadata": {},
   "outputs": [
    {
     "name": "stdout",
     "output_type": "stream",
     "text": [
      "x =  [0, 1, 0, 0, 0, 0, 0, 0, 0, 0, 0, 1, 0, 0, 0, 0, 0, 0, 0, 1, 0, 0, 0, 0, 0, 0, 0, 0, 0, 0, 0, 0, 0, 0, 0, 1, 0, 0, 0, 0, 1, 0, 0, 0, 0, 0, 0, 0, 0, 0, 1, 0, 0, 0, 0, 0, 0, 0, 0, 0, 0, 1, 0, 1, 0, 0, 0, 0, 0, 0, 0, 0, 0, 0, 0, 0, 0, 0, 0, 1, 0, 0, 0, 0, 0, 1, 0, 0, 0, 0] \n",
      "y =  [0, 9, 0, 0, 0, 0, 0, 0, 0, 0, 0, 7, 0, 0, 0, 0, 0, 0, 0, 8, 0, 0, 0, 0, 0, 0, 0, 0, 0, 0, 0, 0, 0, 0, 0, 6, 0, 0, 0, 0, 4, 0, 0, 0, 0, 0, 0, 0, 0, 0, 3, 0, 0, 0, 0, 0, 0, 0, 0, 0, 0, 2, 0, 0, 0, 0, 0, 0, 0, 0, 0, 0, 0, 0, 0, 0, 0, 0, 0, 1, 0, 0, 0, 0, 0, 5, 0, 0, 0, 0]\n"
     ]
    }
   ],
   "source": [
    "print('x = ',x,'\\ny = ',y)"
   ]
  },
  {
   "cell_type": "code",
   "execution_count": 147,
   "metadata": {},
   "outputs": [],
   "source": [
    "trav = []\n",
    "for i in range(num_edges):\n",
    "    if x[i] == 1: \n",
    "        trav.append(E[i])"
   ]
  },
  {
   "cell_type": "code",
   "execution_count": 148,
   "metadata": {},
   "outputs": [
    {
     "data": {
      "text/plain": [
       "[[[1, 3],\n",
       "  [2, 4],\n",
       "  [3, 2],\n",
       "  [4, 10],\n",
       "  [5, 6],\n",
       "  [6, 7],\n",
       "  [7, 9],\n",
       "  [8, 1],\n",
       "  [9, 8],\n",
       "  [10, 5]],\n",
       " ['Montgomery',\n",
       "  'Phoenix',\n",
       "  'Little Rock',\n",
       "  'Sacramento',\n",
       "  'Denver',\n",
       "  'Hartford',\n",
       "  'Dover',\n",
       "  'Tallahassee',\n",
       "  'Atlanta',\n",
       "  'Boise']]"
      ]
     },
     "execution_count": 148,
     "metadata": {},
     "output_type": "execute_result"
    }
   ],
   "source": [
    "[trav, keys]"
   ]
  },
  {
   "cell_type": "code",
   "execution_count": 149,
   "metadata": {},
   "outputs": [],
   "source": [
    "tour = [keys[edge[0][0]-1]]"
   ]
  },
  {
   "cell_type": "code",
   "execution_count": 150,
   "metadata": {},
   "outputs": [
    {
     "name": "stdout",
     "output_type": "stream",
     "text": [
      "['Montgomery', 'Little Rock', 'Phoenix', 'Sacramento', 'Boise', 'Denver', 'Hartford', 'Dover', 'Atlanta', 'Tallahassee', 'Montgomery', 'Little Rock', 'Phoenix', 'Sacramento', 'Boise', 'Denver', 'Hartford', 'Dover', 'Atlanta', 'Tallahassee']\n"
     ]
    }
   ],
   "source": [
    "next = trav[0][1]\n",
    "for i in range(1,psize-1):\n",
    "    for j in range(psize):\n",
    "        if trav[j][0] == next:\n",
    "            tour.append(keys[trav[j][0]-1])\n",
    "            next = trav[j][1] \n",
    "print(tour)"
   ]
  },
  {
   "cell_type": "markdown",
   "metadata": {},
   "source": [
    "## Bibliography"
   ]
  },
  {
   "cell_type": "markdown",
   "metadata": {},
   "source": [
    "* [GitHub site for TSP solved for 48 US States.](https://github.com/toddwschneider/shiny-salesman) But the data is in binary. \n",
    "* [Here is longitudes and latitudes](http://www.xfront.com/us_states/), then use [this](https://pypi.org/project/geopy/) to calculate the distances. "
   ]
  }
 ],
 "metadata": {
  "kernelspec": {
   "display_name": "Python 3",
   "language": "python",
   "name": "python3"
  },
  "language_info": {
   "codemirror_mode": {
    "name": "ipython",
    "version": 3
   },
   "file_extension": ".py",
   "mimetype": "text/x-python",
   "name": "python",
   "nbconvert_exporter": "python",
   "pygments_lexer": "ipython3",
   "version": "3.7.0"
  }
 },
 "nbformat": 4,
 "nbformat_minor": 2
}
