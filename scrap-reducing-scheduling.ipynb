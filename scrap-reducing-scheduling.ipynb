{
 "cells": [
  {
   "cell_type": "markdown",
   "metadata": {},
   "source": [
    "# A Scrap-reducing Scheduling Strategy for Batch Production"
   ]
  },
  {
   "cell_type": "markdown",
   "metadata": {},
   "source": [
    "A spreadsheet containing one year of operational data indicates several reasons for scrap. In this notebook, we assume that the following values listed in the column **scrap reasons** indicate pigment from the prior batch contaminating the next batch, creating the scrap:\n",
    "* Tile Shade\n",
    "* Tile Quality\n",
    "* Offshade\n",
    "* Foreign Color\n",
    "* Patt. Change"
   ]
  },
  {
   "cell_type": "markdown",
   "metadata": {},
   "source": [
    "These scrap reasons account for 15.6% of total scrap. \n",
    "\n",
    "We model the scheduling problem as a [Traveling Salesman Problem](https://en.wikipedia.org/wiki/Travelling_salesman_problem). Where replacing \"distance between cities\" is one of:\n",
    "\n",
    "1. an empirical model of \"scrap between product types\" or, \n",
    "2. an analytical model describing the difference between color as it affects scrap, or\n",
    "3. some hybrid combination of (1) and (2). \n",
    "\n",
    "To use the empirical approach, ideally we would have accurate historical operational data indicating the scrap produced between every pair of products. Of course, we don't have that. "
   ]
  },
  {
   "cell_type": "markdown",
   "metadata": {},
   "source": [
    "## Do it in MiniZinc"
   ]
  },
  {
   "cell_type": "code",
   "execution_count": null,
   "metadata": {},
   "outputs": [],
   "source": [
    "%%minizinc -m bind\n",
    "\n",
    "include \"globals.mzn\";\n",
    "\n",
    "int n;\n",
    "array [1..n,1..n] of int: dist;\n",
    "int: start_city;\n",
    "int end_city;\n",
    "\n",
    "array[1..n] of var 1..n city;\n",
    "array[1..n] of string: city_name;\n",
    "    \n",
    "constraint city[1] = start_city;\n",
    "constraint city[n] = end_city;\n",
    "\n",
    "int total_distance = sum(i in 2..n)(dist[city[i-1],city[i]]);\n",
    "solve minimize total_distance;"
   ]
  },
  {
   "cell_type": "markdown",
   "metadata": {},
   "source": [
    "## Never Stop Improving!"
   ]
  },
  {
   "cell_type": "markdown",
   "metadata": {},
   "source": [
    "![alt text](https://raw.githubusercontent.com/pdenno/minizinc-notebooks/master/images/jupyter-files-view.png \"Logo Title Text 1\")"
   ]
  }
 ],
 "metadata": {
  "kernelspec": {
   "display_name": "Python 3",
   "language": "python",
   "name": "python3"
  },
  "language_info": {
   "codemirror_mode": {
    "name": "ipython",
    "version": 3
   },
   "file_extension": ".py",
   "mimetype": "text/x-python",
   "name": "python",
   "nbconvert_exporter": "python",
   "pygments_lexer": "ipython3",
   "version": "3.7.0"
  }
 },
 "nbformat": 4,
 "nbformat_minor": 2
}
