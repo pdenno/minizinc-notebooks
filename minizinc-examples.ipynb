{
 "cells": [
  {
   "cell_type": "markdown",
   "metadata": {},
   "source": [
    "# An Example Jupyter Notebook using MiniZinc\n",
    "### Peter Denno 2018-09-20"
   ]
  },
  {
   "cell_type": "markdown",
   "metadata": {},
   "source": [
    "Step 1: Install Python (I'm using 3.7) and `pip3 install jupyter`. You probably already did this if you are reading this.\n",
    "\n",
    "Step 2: `pip3 install iminizinc` module for minizinc magic. Discussion on that installation is found [here](http://www.minizinc.org/doc-2.2.0/en/jupyter.html).\n",
    "\n",
    "Minizinc magic didn't work with my Anaconda python installation, so I installed ordinary Python 3.7. Make sure also that you are running MiniZinc version 2.2.0 or greater. Otherwise you may get an error \"unrecognized option --solver\" error when running the MiniZinc cells below. Discussion of [that error](https://stackoverflow.com/questions/51997361/minizinc-unrecognized-option-solver) can be found here. N.B. An alternative to all this hacking especially relevant to a classroom setting is to use jupyterhub and Docker."
   ]
  },
  {
   "cell_type": "code",
   "execution_count": 10,
   "metadata": {},
   "outputs": [
    {
     "name": "stdout",
     "output_type": "stream",
     "text": [
      "The iminizinc extension is already loaded. To reload it, use:\n",
      "  %reload_ext iminizinc\n"
     ]
    }
   ],
   "source": [
    " %load_ext iminizinc  "
   ]
  },
  {
   "cell_type": "markdown",
   "metadata": {},
   "source": [
    "## nqueens Problem"
   ]
  },
  {
   "cell_type": "markdown",
   "metadata": {},
   "source": [
    "nqueens is the problem of placing n queens on a chess board such that they can't attack each other in one move.\n",
    "I could have used `int: n = 8;` inside the MiniZinc code below, but it makes much more sense to use a python variable for that. (Imagine that you have a lot of data you want to get into MiniZinc; this is how you do it.) There probably isn't an industrial problem quite like nqueens, but it is an easy problem to describe."
   ]
  },
  {
   "cell_type": "code",
   "execution_count": 29,
   "metadata": {},
   "outputs": [],
   "source": [
    "n = 8"
   ]
  },
  {
   "cell_type": "markdown",
   "metadata": {},
   "source": [
    "Here is the nqueens problem from the page on iminizinc mentioned above."
   ]
  },
  {
   "cell_type": "code",
   "execution_count": 30,
   "metadata": {},
   "outputs": [
    {
     "data": {
      "text/plain": [
       "{'queens': [4, 2, 7, 3, 6, 8, 5, 1]}"
      ]
     },
     "execution_count": 30,
     "metadata": {},
     "output_type": "execute_result"
    }
   ],
   "source": [
    "%%minizinc\n",
    "\n",
    "        include \"globals.mzn\";\n",
    "        int: n;\n",
    "        array[1..n] of var 1..n: queens;        \n",
    "        constraint all_different(queens);\n",
    "        constraint all_different([queens[i]+i | i in 1..n]);\n",
    "        constraint all_different([queens[i]-i | i in 1..n]);\n",
    "        solve satisfy;"
   ]
  },
  {
   "cell_type": "markdown",
   "metadata": {},
   "source": [
    "## The Linear Assignment Problem"
   ]
  },
  {
   "cell_type": "markdown",
   "metadata": {},
   "source": [
    "The linear assignment problem is the problem of assigning n workers n job most cost effectively. Each worker has a cost incurred in doing each of the jobs.\n",
    "\n",
    "You can read a little bit about the assignment problem. and lots of other common problems [here](https://glossary.informs.org/ver2/mpgwiki/index.php?title=Category:Common_Problems)."
   ]
  },
  {
   "cell_type": "code",
   "execution_count": 26,
   "metadata": {},
   "outputs": [],
   "source": [
    "cost = [[10, 20, 13], [22, 11, 31], [14, 20, 18]]"
   ]
  },
  {
   "cell_type": "code",
   "execution_count": null,
   "metadata": {},
   "outputs": [],
   "source": [
    "Using -m bind in the minizinc magic causes the decision variable to be bound to a python variable of the same name."
   ]
  },
  {
   "cell_type": "code",
   "execution_count": 27,
   "metadata": {},
   "outputs": [],
   "source": [
    "%%minizinc -m bind\n",
    "include \"alldifferent.mzn\";\n",
    "% Each worker has a cost for doing each task. Every worker does one task.\n",
    "% This is the linear assignment problem -- # of tasks = # of workers.\n",
    "int: n = 3;\n",
    "set of int: Workers = 1..n;\n",
    "set of int: Tasks   = 1..n;\n",
    "array[Workers, Tasks] of int: cost;\n",
    "\n",
    "array[Workers] of var Tasks: doesTask; \n",
    "\n",
    "constraint alldifferent(doesTask); % implies all tasks get done.\n",
    "\n",
    "solve minimize sum (w in Workers) (cost[w,doesTask[w]]);"
   ]
  },
  {
   "cell_type": "code",
   "execution_count": 28,
   "metadata": {},
   "outputs": [
    {
     "data": {
      "text/plain": [
       "[3, 2, 1]"
      ]
     },
     "execution_count": 28,
     "metadata": {},
     "output_type": "execute_result"
    }
   ],
   "source": [
    "doesTask"
   ]
  },
  {
   "cell_type": "code",
   "execution_count": null,
   "metadata": {},
   "outputs": [],
   "source": []
  }
 ],
 "metadata": {
  "kernelspec": {
   "display_name": "Python 3",
   "language": "python",
   "name": "python3"
  },
  "language_info": {
   "codemirror_mode": {
    "name": "ipython",
    "version": 3
   },
   "file_extension": ".py",
   "mimetype": "text/x-python",
   "name": "python",
   "nbconvert_exporter": "python",
   "pygments_lexer": "ipython3",
   "version": "3.7.0"
  }
 },
 "nbformat": 4,
 "nbformat_minor": 2
}
